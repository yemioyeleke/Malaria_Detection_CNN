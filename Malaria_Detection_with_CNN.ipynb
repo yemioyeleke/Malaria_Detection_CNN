{
  "nbformat": 4,
  "nbformat_minor": 0,
  "metadata": {
    "colab": {
      "provenance": [],
      "authorship_tag": "ABX9TyN2dE0RxD9GhesP5Ck5PlWf",
      "include_colab_link": true
    },
    "kernelspec": {
      "name": "python3",
      "display_name": "Python 3"
    },
    "language_info": {
      "name": "python"
    }
  },
  "cells": [
    {
      "cell_type": "markdown",
      "metadata": {
        "id": "view-in-github",
        "colab_type": "text"
      },
      "source": [
        "<a href=\"https://colab.research.google.com/github/yemioyeleke/Malaria_Detection_CNN/blob/main/Malaria_Detection_with_CNN.ipynb\" target=\"_parent\"><img src=\"https://colab.research.google.com/assets/colab-badge.svg\" alt=\"Open In Colab\"/></a>"
      ]
    },
    {
      "cell_type": "markdown",
      "source": [
        "# Introduction"
      ],
      "metadata": {
        "id": "D6p6ArHMWVii"
      }
    },
    {
      "cell_type": "markdown",
      "source": [
        "Malaria is a deadly disease predominantly caused by a parasite name Plasmodium falciparum which is transmitted by mosquito. It shows symptoms such as high fever and chills, which not treated in due time can be fatal. The disease is diagnosed by capturing the cell images of the blood and the presence of parasitic stains can be used to detect the Malarial disease.\n",
        "\n",
        "See More: https://lhncbc.nlm.nih.gov/LHC-research/LHC-projects/image-processing/malaria-screener.html"
      ],
      "metadata": {
        "id": "tPWP2kLPWkj9"
      }
    },
    {
      "cell_type": "markdown",
      "source": [
        "# Dataset"
      ],
      "metadata": {
        "id": "T6x4UMICWppq"
      }
    },
    {
      "cell_type": "markdown",
      "source": [
        "We acquired cell images from 150 P. falciparum-infected and 50 uninfected patients in Giemsa-stained thin blood smears that were collected and photographed at Chittagong Medical College Hospital, Bangladesh. The dataset contains a total of 27,558 cell images with equal instances of parasitized and uninfected cells.\n",
        "\n",
        "\n",
        "Giemsa-stained thick blood smear slides from 150 P. falciparum-infected patients were collected and photographed at Chittagong Medical College Hospital, Bangladesh. We have developed the first deep learning method that can detect P. falciparum parasites in thick blood smear images and can run on smartphones, which consists of two modules: an intensity-based Iterative Global Minimum Screening (IGMS) module for parasite candidate screening and a customized CNN classifier for final classification."
      ],
      "metadata": {
        "id": "22CvVsAcffPD"
      }
    },
    {
      "cell_type": "markdown",
      "source": [
        "# Getting the Dataset"
      ],
      "metadata": {
        "id": "UmZ_vYLpf4M8"
      }
    },
    {
      "cell_type": "markdown",
      "source": [
        "The Kaggle dataset consists of two folders namely uninfected and parasitized cell images. The images are color images which are resized to a dimension of\n",
        "128\n",
        "×\n",
        "128\n",
        "\n",
        ". The original dataset provides a total of around 25000 images. However, for running our simple DL algorithm we will be using only 100 images for each class"
      ],
      "metadata": {
        "id": "_g9CnWn3W0Jr"
      }
    },
    {
      "cell_type": "code",
      "execution_count": 1,
      "metadata": {
        "id": "lUt5eUzpWRci"
      },
      "outputs": [],
      "source": [
        "import numpy as np\n",
        "import pandas as pd\n",
        "import matplotlib.pyplot as plt\n",
        "from matplotlib import style\n",
        "import seaborn as sns"
      ]
    },
    {
      "cell_type": "code",
      "source": [
        "#OpenCV and Scikit-learn for image processing and machine learning respectivley.\n",
        "import cv2\n",
        "import os\n",
        "from sklearn.feature_extraction import image"
      ],
      "metadata": {
        "id": "lo-zyt0-XUoS"
      },
      "execution_count": 2,
      "outputs": []
    },
    {
      "cell_type": "markdown",
      "source": [
        "# Data Preprocessing"
      ],
      "metadata": {
        "id": "0hi2AYjvXhNn"
      }
    },
    {
      "cell_type": "code",
      "source": [
        "#Here we initialize a set of lists X & Z for the images and the labels.\n",
        "\n",
        "from tqdm import tqdm\n",
        "X=[]\n",
        "Z=[]\n",
        "IMG_SIZE=128\n",
        "norm_DIR='data/uninfected'\n",
        "mal_DIR='data/parasitized'"
      ],
      "metadata": {
        "id": "Lj7VkGUvXcMx"
      },
      "execution_count": 2,
      "outputs": []
    },
    {
      "cell_type": "markdown",
      "source": [
        "# Creation of lists for the images and the labels"
      ],
      "metadata": {
        "id": "HqTBaoxibu9Q"
      }
    },
    {
      "cell_type": "code",
      "source": [
        "#Here we create two functions for creating image lists and labels.\n",
        "\n",
        "def assign_label(img,ret_type):\n",
        "    return ret_type\n",
        "\n",
        "def make_train_data(ret_type,DIR):\n",
        "    for img in tqdm(os.listdir(DIR)):\n",
        "        label=assign_label(img,ret_type)\n",
        "        path = os.path.join(DIR,img)\n",
        "        img = cv2.imread(path,cv2.IMREAD_COLOR)\n",
        "        img = cv2.resize(img, (IMG_SIZE,IMG_SIZE))\n",
        "\n",
        "        X.append(np.array(img))\n",
        "        Z.append(str(label))"
      ],
      "metadata": {
        "id": "ae1a_XAoXuv2"
      },
      "execution_count": 6,
      "outputs": []
    },
    {
      "cell_type": "code",
      "source": [
        "#Here we call the functions to perform the array formation for the images and the labels.\n",
        "\n",
        "make_train_data('Uninfected',norm_DIR)"
      ],
      "metadata": {
        "id": "WCJZwPIOeNR5"
      },
      "execution_count": null,
      "outputs": []
    }
  ]
}